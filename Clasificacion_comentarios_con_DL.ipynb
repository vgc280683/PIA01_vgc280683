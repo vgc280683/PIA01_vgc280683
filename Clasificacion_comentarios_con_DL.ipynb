{
  "nbformat": 4,
  "nbformat_minor": 0,
  "metadata": {
    "colab": {
      "provenance": [],
      "include_colab_link": true
    },
    "kernelspec": {
      "name": "python3",
      "display_name": "Python 3"
    },
    "language_info": {
      "name": "python"
    }
  },
  "cells": [
    {
      "cell_type": "markdown",
      "metadata": {
        "id": "view-in-github",
        "colab_type": "text"
      },
      "source": [
        "<a href=\"https://colab.research.google.com/github/vgc280683/PIA01_vgc280683/blob/main/Clasificacion_comentarios_con_DL.ipynb\" target=\"_parent\"><img src=\"https://colab.research.google.com/assets/colab-badge.svg\" alt=\"Open In Colab\"/></a>"
      ]
    },
    {
      "cell_type": "markdown",
      "source": [
        "# Ejemplo de clasificación de valoraciones de películas con deep learning\n",
        "\n",
        "Trabajamos con el dataset IMDB, que ya viene preprocesado y el texto se ha codificado como una secuencia de números enteros.\n",
        "\n",
        "Viene precargado en la librería Keras: https://keras.io/api/datasets/imdb/"
      ],
      "metadata": {
        "id": "bDAoSmoXuaa7"
      }
    },
    {
      "cell_type": "code",
      "metadata": {
        "id": "CxDcPUiQSiPq",
        "colab": {
          "base_uri": "https://localhost:8080/"
        },
        "outputId": "e289b067-e406-4754-87d3-d71bd4b905bf"
      },
      "source": [
        "from keras.datasets import imdb\n",
        "\n",
        "(train_data, train_labels), (test_data,test_labels) = imdb.load_data(num_words=10000)"
      ],
      "execution_count": null,
      "outputs": [
        {
          "output_type": "stream",
          "name": "stdout",
          "text": [
            "Downloading data from https://storage.googleapis.com/tensorflow/tf-keras-datasets/imdb.npz\n",
            "17465344/17464789 [==============================] - 0s 0us/step\n",
            "17473536/17464789 [==============================] - 0s 0us/step\n"
          ]
        }
      ]
    },
    {
      "cell_type": "markdown",
      "metadata": {
        "id": "EbPHcUXQTRy7"
      },
      "source": [
        "Vemos que train_data y test_data son listas de índices correspondientes a palabras presentes en una review de una película"
      ]
    },
    {
      "cell_type": "code",
      "metadata": {
        "id": "Ql5C33tES6CU",
        "colab": {
          "base_uri": "https://localhost:8080/"
        },
        "outputId": "9b23691b-0901-4066-a384-7ab3f48ee45e"
      },
      "source": [
        "print(\"Los 10 primeros tokens del comentario con índice 0 son: \")\n",
        "print(train_data[0][:10])"
      ],
      "execution_count": null,
      "outputs": [
        {
          "output_type": "stream",
          "name": "stdout",
          "text": [
            "Los 10 primeros tokens del comentario con índice 0 son: \n",
            "[1, 14, 22, 16, 43, 530, 973, 1622, 1385, 65]\n"
          ]
        }
      ]
    },
    {
      "cell_type": "markdown",
      "metadata": {
        "id": "dkgwaeabTK3n"
      },
      "source": [
        "Por otro lado, train_labels y test_labels son listas de 0 y 1, correspondiendo el 0 a una valoración negativa y el 1 a una valoración positiva"
      ]
    },
    {
      "cell_type": "code",
      "metadata": {
        "colab": {
          "base_uri": "https://localhost:8080/"
        },
        "id": "HbuYeHqkTAbp",
        "outputId": "aff37a09-3f4b-4f11-d338-f0f9fd77649e"
      },
      "source": [
        "train_labels[0]"
      ],
      "execution_count": null,
      "outputs": [
        {
          "output_type": "execute_result",
          "data": {
            "text/plain": [
              "1"
            ]
          },
          "metadata": {},
          "execution_count": 5
        }
      ]
    },
    {
      "cell_type": "markdown",
      "source": [
        "El módulo incluye la función get_word_index, que es la que codifica el texto a índices. El criterio de codificación asigna a cada palabra el número entero correspondiente al orden que ocupa dicha palabra en cuanto a frecuencia de aparición en el dataset. Para recuperar el texto literal, invertimos índices y valores tras aplicar la función."
      ],
      "metadata": {
        "id": "-bVjCD6ixVuy"
      }
    },
    {
      "cell_type": "code",
      "metadata": {
        "id": "2qmQpJCDT9AO",
        "colab": {
          "base_uri": "https://localhost:8080/"
        },
        "outputId": "8d37d667-8794-432c-8b6d-b33a73289695"
      },
      "source": [
        "word_index = imdb.get_word_index()\n",
        "reverse_word_index = dict(\n",
        "    [(value,key) for (key,value) in word_index.items()]\n",
        ")\n",
        "decoded_review = ' '.join(\n",
        "    [reverse_word_index.get(i - 3, '?') for i in train_data[0]]\n",
        ")"
      ],
      "execution_count": null,
      "outputs": [
        {
          "output_type": "stream",
          "name": "stdout",
          "text": [
            "Downloading data from https://storage.googleapis.com/tensorflow/tf-keras-datasets/imdb_word_index.json\n",
            "1646592/1641221 [==============================] - 0s 0us/step\n",
            "1654784/1641221 [==============================] - 0s 0us/step\n"
          ]
        }
      ]
    },
    {
      "cell_type": "code",
      "metadata": {
        "colab": {
          "base_uri": "https://localhost:8080/",
          "height": 195
        },
        "id": "bbRRZd6hU2VL",
        "outputId": "283ecc0a-da56-4171-d70c-81ff9ae1daa9"
      },
      "source": [
        "decoded_review"
      ],
      "execution_count": null,
      "outputs": [
        {
          "output_type": "execute_result",
          "data": {
            "text/plain": [
              "\"? this film was just brilliant casting location scenery story direction everyone's really suited the part they played and you could just imagine being there robert ? is an amazing actor and now the same being director ? father came from the same scottish island as myself so i loved the fact there was a real connection with this film the witty remarks throughout the film were great it was just brilliant so much that i bought the film as soon as it was released for ? and would recommend it to everyone to watch and the fly fishing was amazing really cried at the end it was so sad and you know what they say if you cry at a film it must have been good and this definitely was also ? to the two little boy's that played the ? of norman and paul they were just brilliant children are often left out of the ? list i think because the stars that play them all grown up are such a big profile for the whole film but these children are amazing and should be praised for what they have done don't you think the whole story was so lovely because it was true and was someone's life after all that was shared with us all\""
            ],
            "application/vnd.google.colaboratory.intrinsic+json": {
              "type": "string"
            }
          },
          "metadata": {},
          "execution_count": 7
        }
      ]
    },
    {
      "cell_type": "markdown",
      "source": [
        "## Preparamos los datos de entrada\n",
        "No podemos introducir en la red neuronal listas de diferente longitud. Las redes neuronales solo aceptan tensores, y tenemos que \"vectorizar\" las listas de los comentarios haciendo un \"one_hot encoding\""
      ],
      "metadata": {
        "id": "Q6IzpNf17Wht"
      }
    },
    {
      "cell_type": "code",
      "metadata": {
        "id": "Kd_0o5yNVClh"
      },
      "source": [
        "import numpy as np\n",
        "\n",
        "def vectorize_sequences(sequences, dimension=10000):\n",
        "  results = np.zeros((len(sequences), dimension))\n",
        "  for i, sequence in enumerate(sequences):\n",
        "    results[i, sequence] = 1.\n",
        "  return results\n",
        "\n",
        "x_train = vectorize_sequences(train_data)\n",
        "x_test = vectorize_sequences(test_data)"
      ],
      "execution_count": null,
      "outputs": []
    },
    {
      "cell_type": "code",
      "source": [
        "len(x_train)"
      ],
      "metadata": {
        "colab": {
          "base_uri": "https://localhost:8080/"
        },
        "id": "AhTcF6b7SZJq",
        "outputId": "c660da2b-6105-4dd3-d58d-f1f1d2745911"
      },
      "execution_count": null,
      "outputs": [
        {
          "output_type": "execute_result",
          "data": {
            "text/plain": [
              "25000"
            ]
          },
          "metadata": {},
          "execution_count": 9
        }
      ]
    },
    {
      "cell_type": "code",
      "source": [
        "x_train[0].shape"
      ],
      "metadata": {
        "id": "u61DzCKiMYBE",
        "colab": {
          "base_uri": "https://localhost:8080/"
        },
        "outputId": "32b91009-9641-439e-bb51-ab354ea28893"
      },
      "execution_count": null,
      "outputs": [
        {
          "output_type": "execute_result",
          "data": {
            "text/plain": [
              "(10000,)"
            ]
          },
          "metadata": {},
          "execution_count": 10
        }
      ]
    },
    {
      "cell_type": "markdown",
      "source": [
        "Convertimos en array también las etiquetas y"
      ],
      "metadata": {
        "id": "3wCPFnqt9DFm"
      }
    },
    {
      "cell_type": "code",
      "source": [
        "y_train = np.asarray(train_labels).astype('float32')\n",
        "y_test = np.asarray(test_labels).astype('float32')"
      ],
      "metadata": {
        "id": "oO5p962yMyYr"
      },
      "execution_count": null,
      "outputs": []
    },
    {
      "cell_type": "markdown",
      "source": [
        "## Construimos el modelo\n",
        "Creamos un modelo Sequential con 3 capas neuronales, dos de 16 neuronas y la de salida con 1 neurona, pues es un problema de clasificación binario"
      ],
      "metadata": {
        "id": "jP-YrSYK9JSu"
      }
    },
    {
      "cell_type": "code",
      "source": [
        "from keras import models, layers\n",
        "\n",
        "model = models.Sequential()\n",
        "model.add(layers.Dense(16, activation='relu', input_shape=(10000,)))\n",
        "model.add(layers.Dense(16,activation='relu'))\n",
        "model.add(layers.Dense(1,activation='sigmoid'))"
      ],
      "metadata": {
        "id": "QY6bUAT_M1HF"
      },
      "execution_count": null,
      "outputs": []
    },
    {
      "cell_type": "markdown",
      "source": [
        "## Fijamos los parámetros del entrenamiento\n",
        "Podemos ustilizar el módulo optimizers para fijar parámetros internos del optimizador."
      ],
      "metadata": {
        "id": "wF_ziTK_GzDj"
      }
    },
    {
      "cell_type": "code",
      "source": [
        "model.compile(optimizer='rmsprop',\n",
        "              loss='binary_crossentropy',\n",
        "              metrics=['acc'])"
      ],
      "metadata": {
        "id": "1wMiJPHpM5Bf"
      },
      "execution_count": null,
      "outputs": []
    },
    {
      "cell_type": "code",
      "source": [
        "# from keras import optimizers\n",
        "# model.compile(optimizer=optimizers.RMSprop(lr=0.001),\n",
        "#               loss='binary_crossentropy',\n",
        "#               metrics=['accuracy'])"
      ],
      "metadata": {
        "id": "ezlBexydRGf4"
      },
      "execution_count": null,
      "outputs": []
    },
    {
      "cell_type": "markdown",
      "source": [
        "Reservamos datos para la validación."
      ],
      "metadata": {
        "id": "_P3XtFRxHP2x"
      }
    },
    {
      "cell_type": "code",
      "source": [
        "x_val = x_train[:10000]\n",
        "partial_x_train = x_train[10000:]\n",
        "\n",
        "y_val = y_train[:10000]\n",
        "partial_y_train = y_train[10000:]"
      ],
      "metadata": {
        "id": "3rMO7BndM97J"
      },
      "execution_count": null,
      "outputs": []
    },
    {
      "cell_type": "markdown",
      "source": [
        "## Entrenamos el modelo"
      ],
      "metadata": {
        "id": "v-8L_GzNHuA9"
      }
    },
    {
      "cell_type": "code",
      "source": [
        "training=model.fit(partial_x_train,\n",
        "                   partial_y_train,\n",
        "                   epochs=20,\n",
        "                   batch_size=512,\n",
        "                   validation_data=(x_val,y_val))"
      ],
      "metadata": {
        "id": "LBPXiBmONZN-",
        "colab": {
          "base_uri": "https://localhost:8080/"
        },
        "outputId": "66bc55d3-73b3-42c1-9978-60044ada2627"
      },
      "execution_count": null,
      "outputs": [
        {
          "output_type": "stream",
          "name": "stdout",
          "text": [
            "Epoch 1/20\n",
            "30/30 [==============================] - 2s 46ms/step - loss: 0.5102 - acc: 0.7912 - val_loss: 0.4192 - val_acc: 0.8361\n",
            "Epoch 2/20\n",
            "30/30 [==============================] - 1s 32ms/step - loss: 0.3111 - acc: 0.9005 - val_loss: 0.3206 - val_acc: 0.8777\n",
            "Epoch 3/20\n",
            "30/30 [==============================] - 1s 31ms/step - loss: 0.2278 - acc: 0.9277 - val_loss: 0.2929 - val_acc: 0.8834\n",
            "Epoch 4/20\n",
            "30/30 [==============================] - 1s 31ms/step - loss: 0.1807 - acc: 0.9415 - val_loss: 0.2725 - val_acc: 0.8913\n",
            "Epoch 5/20\n",
            "30/30 [==============================] - 1s 31ms/step - loss: 0.1489 - acc: 0.9532 - val_loss: 0.2877 - val_acc: 0.8867\n",
            "Epoch 6/20\n",
            "30/30 [==============================] - 1s 32ms/step - loss: 0.1208 - acc: 0.9621 - val_loss: 0.3016 - val_acc: 0.8802\n",
            "Epoch 7/20\n",
            "30/30 [==============================] - 1s 31ms/step - loss: 0.0988 - acc: 0.9713 - val_loss: 0.3122 - val_acc: 0.8837\n",
            "Epoch 8/20\n",
            "30/30 [==============================] - 1s 33ms/step - loss: 0.0811 - acc: 0.9776 - val_loss: 0.3243 - val_acc: 0.8808\n",
            "Epoch 9/20\n",
            "30/30 [==============================] - 1s 32ms/step - loss: 0.0660 - acc: 0.9823 - val_loss: 0.3517 - val_acc: 0.8766\n",
            "Epoch 10/20\n",
            "30/30 [==============================] - 1s 31ms/step - loss: 0.0547 - acc: 0.9858 - val_loss: 0.3726 - val_acc: 0.8763\n",
            "Epoch 11/20\n",
            "30/30 [==============================] - 1s 46ms/step - loss: 0.0436 - acc: 0.9896 - val_loss: 0.4059 - val_acc: 0.8718\n",
            "Epoch 12/20\n",
            "30/30 [==============================] - 1s 32ms/step - loss: 0.0321 - acc: 0.9941 - val_loss: 0.4264 - val_acc: 0.8741\n",
            "Epoch 13/20\n",
            "30/30 [==============================] - 1s 32ms/step - loss: 0.0277 - acc: 0.9943 - val_loss: 0.4599 - val_acc: 0.8728\n",
            "Epoch 14/20\n",
            "30/30 [==============================] - 1s 32ms/step - loss: 0.0197 - acc: 0.9975 - val_loss: 0.4867 - val_acc: 0.8725\n",
            "Epoch 15/20\n",
            "30/30 [==============================] - 1s 32ms/step - loss: 0.0152 - acc: 0.9979 - val_loss: 0.5210 - val_acc: 0.8720\n",
            "Epoch 16/20\n",
            "30/30 [==============================] - 1s 32ms/step - loss: 0.0125 - acc: 0.9983 - val_loss: 0.5502 - val_acc: 0.8721\n",
            "Epoch 17/20\n",
            "30/30 [==============================] - 1s 31ms/step - loss: 0.0074 - acc: 0.9997 - val_loss: 0.6256 - val_acc: 0.8593\n",
            "Epoch 18/20\n",
            "30/30 [==============================] - 1s 33ms/step - loss: 0.0082 - acc: 0.9987 - val_loss: 0.6313 - val_acc: 0.8701\n",
            "Epoch 19/20\n",
            "30/30 [==============================] - 1s 33ms/step - loss: 0.0036 - acc: 0.9999 - val_loss: 0.6683 - val_acc: 0.8676\n",
            "Epoch 20/20\n",
            "30/30 [==============================] - 1s 32ms/step - loss: 0.0071 - acc: 0.9985 - val_loss: 0.6954 - val_acc: 0.8671\n"
          ]
        }
      ]
    },
    {
      "cell_type": "markdown",
      "source": [
        "## Representamos la evolución del error y la precisión en cada epoch"
      ],
      "metadata": {
        "id": "5cVYCPktZiFm"
      }
    },
    {
      "cell_type": "code",
      "source": [
        "history_dict = training.history\n",
        "history_dict.keys()"
      ],
      "metadata": {
        "id": "1ntFHhAdN2zf",
        "colab": {
          "base_uri": "https://localhost:8080/"
        },
        "outputId": "3ab4924e-93ba-44b3-fd94-d0498f9a74f7"
      },
      "execution_count": null,
      "outputs": [
        {
          "output_type": "execute_result",
          "data": {
            "text/plain": [
              "dict_keys(['loss', 'acc', 'val_loss', 'val_acc'])"
            ]
          },
          "metadata": {},
          "execution_count": 16
        }
      ]
    },
    {
      "cell_type": "code",
      "source": [
        "import matplotlib.pyplot as plt\n",
        "loss_values = history_dict['loss']\n",
        "val_loss_values = history_dict['val_loss']\n",
        "#epochs = range(1, len(history_dict['acc']) +1)\n",
        "epochs = training.epoch\n",
        "plt.plot(epochs, loss_values,'bo', label = 'Training loss')\n",
        "plt.plot(epochs, val_loss_values, 'b', label='Validation loss')\n",
        "plt. title('Training and validation loss')\n",
        "plt.xlabel('Epochs')\n",
        "plt.ylabel('Loss')\n",
        "plt.legend()\n",
        "plt.show()"
      ],
      "metadata": {
        "id": "2mlwkzczWW84",
        "colab": {
          "base_uri": "https://localhost:8080/",
          "height": 295
        },
        "outputId": "6a57111a-e3c1-485e-ad4c-8d1c7956d4e9"
      },
      "execution_count": null,
      "outputs": [
        {
          "output_type": "display_data",
          "data": {
            "text/plain": [
              "<Figure size 432x288 with 1 Axes>"
            ],
            "image/png": "[encoded data removed]"
          },
          "metadata": {
            "needs_background": "light"
          }
        }
      ]
    },
    {
      "cell_type": "code",
      "source": [
        "plt.clf()\n",
        "acc_values = history_dict['acc']\n",
        "val_acc_values = history_dict['val_acc']\n",
        "plt.plot(epochs, acc_values, 'bo', label='Training acc')\n",
        "plt.plot(epochs, val_acc_values, 'b', label='Validation acc')\n",
        "plt.title('Training and validation accuracy')\n",
        "plt.xlabel('Epochs')\n",
        "plt.ylabel('Loss')\n",
        "plt.legend()\n",
        "plt.show()"
      ],
      "metadata": {
        "colab": {
          "base_uri": "https://localhost:8080/",
          "height": 295
        },
        "id": "a72ikxCCXe-_",
        "outputId": "35fe5739-727c-4e4f-adc0-1d80d388ad38"
      },
      "execution_count": null,
      "outputs": [
        {
          "output_type": "display_data",
          "data": {
            "text/plain": [
              "<Figure size 432x288 with 1 Axes>"
            ],
            "image/png": "[encoded data removed]"
          },
          "metadata": {
            "needs_background": "light"
          }
        }
      ]
    },
    {
      "cell_type": "markdown",
      "source": [
        "En el momento en que la precisión del modelo con los datos de entrenamiento aumenta pero la de los datos de validación no, tenemos indicios de que se está dando lo que se denomina \"overfitting\". Volvemos a entrenar un nuevo modelo pero, esta vez, solo con 5 epochs"
      ],
      "metadata": {
        "id": "i0wwEiLqQdw6"
      }
    },
    {
      "cell_type": "code",
      "source": [
        "model = models.Sequential()\n",
        "model.add(layers.Dense(16, activation='relu', input_shape=(10000,)))\n",
        "model.add(layers.Dense(16,activation='relu'))\n",
        "model.add(layers.Dense(1,activation='sigmoid'))\n",
        "\n",
        "model.compile(optimizer='rmsprop',\n",
        "              loss='binary_crossentropy',\n",
        "              metrics=['acc'])\n",
        "\n",
        "training=model.fit(partial_x_train,\n",
        "                   partial_y_train,\n",
        "                   epochs=5,\n",
        "                   batch_size=512,\n",
        "                   validation_data=(x_val,y_val))"
      ],
      "metadata": {
        "colab": {
          "base_uri": "https://localhost:8080/"
        },
        "id": "ZP0ICqfDXzRr",
        "outputId": "db91733c-839b-4e67-ab1c-5bf68e08f917"
      },
      "execution_count": null,
      "outputs": [
        {
          "output_type": "stream",
          "name": "stdout",
          "text": [
            "Epoch 1/5\n",
            "30/30 [==============================] - 2s 45ms/step - loss: 0.5109 - acc: 0.7905 - val_loss: 0.3790 - val_acc: 0.8725\n",
            "Epoch 2/5\n",
            "30/30 [==============================] - 1s 32ms/step - loss: 0.3043 - acc: 0.9006 - val_loss: 0.3135 - val_acc: 0.8777\n",
            "Epoch 3/5\n",
            "30/30 [==============================] - 1s 36ms/step - loss: 0.2218 - acc: 0.9281 - val_loss: 0.2768 - val_acc: 0.8939\n",
            "Epoch 4/5\n",
            "30/30 [==============================] - 1s 31ms/step - loss: 0.1755 - acc: 0.9429 - val_loss: 0.3125 - val_acc: 0.8751\n",
            "Epoch 5/5\n",
            "30/30 [==============================] - 1s 34ms/step - loss: 0.1448 - acc: 0.9533 - val_loss: 0.2965 - val_acc: 0.8840\n"
          ]
        }
      ]
    },
    {
      "cell_type": "markdown",
      "source": [
        "Probamos a hacer una predicción"
      ],
      "metadata": {
        "id": "8MHZZ4VAWzEj"
      }
    },
    {
      "cell_type": "code",
      "source": [
        "prediction = model.predict(x_test)"
      ],
      "metadata": {
        "id": "HwAlr_mMXFyv"
      },
      "execution_count": null,
      "outputs": []
    },
    {
      "cell_type": "code",
      "source": [
        "prediction[0]"
      ],
      "metadata": {
        "colab": {
          "base_uri": "https://localhost:8080/"
        },
        "id": "H5EoP58tYWUz",
        "outputId": "83f90f3b-dfea-4269-981a-3f8354171235"
      },
      "execution_count": null,
      "outputs": [
        {
          "output_type": "execute_result",
          "data": {
            "text/plain": [
              "array([0.30326813], dtype=float32)"
            ]
          },
          "metadata": {},
          "execution_count": 21
        }
      ]
    },
    {
      "cell_type": "code",
      "source": [
        "y_test[0]"
      ],
      "metadata": {
        "colab": {
          "base_uri": "https://localhost:8080/"
        },
        "id": "UGN_jOjFYYzk",
        "outputId": "63935f95-f341-421b-dcbf-5ca6a5412d60"
      },
      "execution_count": null,
      "outputs": [
        {
          "output_type": "execute_result",
          "data": {
            "text/plain": [
              "0.0"
            ]
          },
          "metadata": {},
          "execution_count": 22
        }
      ]
    },
    {
      "cell_type": "code",
      "source": [
        "%%shell\n",
        "jupyter nbconvert --to html /content/Mod3_T3_5_Ejercicio_Clasificacion_comentarios_con_DL.ipynb"
      ],
      "metadata": {
        "colab": {
          "base_uri": "https://localhost:8080/"
        },
        "id": "HL8XoXSjb-0v",
        "outputId": "67bbb9ad-78ae-4fd5-9857-c81babc753af"
      },
      "execution_count": null,
      "outputs": [
        {
          "output_type": "stream",
          "name": "stdout",
          "text": [
            "[NbConvertApp] Converting notebook /content/Mod3_T3_5_Ejercicio_Clasificacion_comentarios_con_DL.ipynb to html\n",
            "[NbConvertApp] Writing 341379 bytes to /content/Mod3_T3_5_Ejercicio_Clasificacion_comentarios_con_DL.html\n"
          ]
        },
        {
          "output_type": "execute_result",
          "data": {
            "text/plain": [
              ""
            ]
          },
          "metadata": {},
          "execution_count": 23
        }
      ]
    },
    {
      "cell_type": "code",
      "source": [],
      "metadata": {
        "id": "C80fSdHRcNg7"
      },
      "execution_count": null,
      "outputs": []
    }
  ]
}